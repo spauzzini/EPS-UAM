{
 "cells": [
  {
   "cell_type": "code",
   "execution_count": 3,
   "metadata": {},
   "outputs": [
    {
     "ename": "ModuleNotFoundError",
     "evalue": "No module named 'matplotlib'",
     "output_type": "error",
     "traceback": [
      "\u001b[1;31m---------------------------------------------------------------------------\u001b[0m",
      "\u001b[1;31mModuleNotFoundError\u001b[0m                       Traceback (most recent call last)",
      "Cell \u001b[1;32mIn [3], line 1\u001b[0m\n\u001b[1;32m----> 1\u001b[0m \u001b[38;5;28;01mimport\u001b[39;00m \u001b[38;5;21;01mmatplotlib\u001b[39;00m\u001b[38;5;21;01m.\u001b[39;00m\u001b[38;5;21;01mpyplot\u001b[39;00m \u001b[38;5;28;01mas\u001b[39;00m \u001b[38;5;21;01mplt\u001b[39;00m\n\u001b[0;32m      2\u001b[0m \u001b[38;5;28;01mfrom\u001b[39;00m \u001b[38;5;21;01mtimeit\u001b[39;00m \u001b[38;5;28;01mimport\u001b[39;00m timeit\n\u001b[0;32m      3\u001b[0m \u001b[38;5;28;01mimport\u001b[39;00m \u001b[38;5;21;01mnumpy\u001b[39;00m \u001b[38;5;28;01mas\u001b[39;00m \u001b[38;5;21;01mnp\u001b[39;00m\n",
      "\u001b[1;31mModuleNotFoundError\u001b[0m: No module named 'matplotlib'"
     ]
    }
   ],
   "source": [
    "import matplotlib.pyplot as plt\n",
    "from timeit import timeit\n",
    "import numpy as np\n",
    "\n",
    "############################### II-A #############################################\n",
    "def left(t):\n",
    "    return 2*t +1\n",
    "\n",
    "def right(t):\n",
    "    return 2*t +2\n",
    "\n",
    "def min_heapify(h: np.ndarray, i: int):\n",
    "    k=i\n",
    "    l = left(k)\n",
    "    r = right(k)\n",
    "\n",
    "    if (l<len(h) and h[l]<h[i]):\n",
    "        k=l\n",
    "\n",
    "    if (r<len(h) and h[r]<h[k]):\n",
    "        k=r\n",
    "\n",
    "    if (k!=i):\n",
    "        h[i], h[k] = h[k], h[i]\n",
    "        min_heapify(h, k)\n",
    "\n",
    "def insert_min_heap(h: np.ndarray, k: int)-> np.ndarray:\n",
    "    if h is None:\n",
    "        h = []\n",
    "    \n",
    "    h = np.append(h, k)\n",
    "    j = len(h) - 1\n",
    "    \n",
    "    while j >= 1 and h[(j-1) // 2] > h[j]:\n",
    "        h[(j-1) // 2], h[j] = h[j], h[(j-1) // 2]\n",
    "        j = (j-1) // 2\n",
    "\n",
    "    return h\n",
    "\n",
    "def create_min_heap(h: np.ndarray):\n",
    "    for i in range(len(h) // 2,-1, -1):\n",
    "        min_heapify(h, i)\n",
    "    return h\n",
    "\n",
    "def plot_1():\n",
    "    l_timings = []\n",
    "    aux = []\n",
    "    aux1 = []\n",
    "    auxn = []\n",
    "    \n",
    "    for i in range(11):\n",
    "        dim = 10+i\n",
    "        h = list(np.random.permutation(dim))\n",
    "        timings = %timeit -o -n 10 -r 5 -q create_min_heap(h)\n",
    "        l_timings.append([dim, timings.best])\n",
    "        aux.append(dim)\n",
    "        aux1.append(timings.average)\n",
    "        auxn.append(i)\n",
    "\n",
    "    print(l_timings)\n",
    "    \n",
    "    plt.plot(aux, aux1, 'blue')\n",
    "    plt.plot(aux, auxn, 'r-')\n",
    "    \n",
    "if __name__ == \"__main__\":\n",
    "    plot_1()\n"
   ]
  }
 ],
 "metadata": {
  "kernelspec": {
   "display_name": "Python 3.9.7 64-bit",
   "language": "python",
   "name": "python3"
  },
  "language_info": {
   "codemirror_mode": {
    "name": "ipython",
    "version": 3
   },
   "file_extension": ".py",
   "mimetype": "text/x-python",
   "name": "python",
   "nbconvert_exporter": "python",
   "pygments_lexer": "ipython3",
   "version": "3.9.7"
  },
  "orig_nbformat": 4,
  "vscode": {
   "interpreter": {
    "hash": "42a3e12df618ba42980821ab218edc63abb703d0e64a5a9b437f5fda9bf5796e"
   }
  }
 },
 "nbformat": 4,
 "nbformat_minor": 2
}
